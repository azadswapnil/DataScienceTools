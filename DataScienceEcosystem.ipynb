{
 "cells": [
  {
   "cell_type": "markdown",
   "id": "3051ff41-4b03-4517-b1c7-fe15cc0dcf2b",
   "metadata": {},
   "source": [
    "# Data Science Tools and Ecosystem"
   ]
  },
  {
   "cell_type": "markdown",
   "id": "e52bff16-7666-46f1-9194-5febe67b316d",
   "metadata": {},
   "source": [
    "In this notebook, Data Science Tools and Ecosystem are summarized."
   ]
  },
  {
   "cell_type": "markdown",
   "id": "cc3fd927-22cb-42c0-9232-df1129d77232",
   "metadata": {},
   "source": [
    "Some of the popular languages that Data Scientists use are:\n",
    "\n",
    "1. Python\n",
    "2. R\n",
    "3. Java\n",
    "4. Julia\n",
    "5. SQL"
   ]
  },
  {
   "cell_type": "markdown",
   "id": "2f1b4e09-c693-4ada-aa8a-3c4e5926995a",
   "metadata": {},
   "source": [
    "Some of the commonly used libraries used by Data Scientists include:\n",
    "1. Numpy\n",
    "2. Matplotlib\n",
    "3. Scipy\n",
    "4. Seaborn\n",
    "5. Scikit-learn"
   ]
  },
  {
   "cell_type": "markdown",
   "id": "b1eaadfd-7a3d-4a5c-a54b-0f71b666af32",
   "metadata": {},
   "source": [
    "Some of the commonly used data science tools by data scientists include\n",
    "\n",
    "| Data Science Tools |\n",
    "|--------------------|\n",
    "| Jupyter Notebook   |\n",
    "| RStudio            |\n",
    "| Apache Zeppelin    |"
   ]
  },
  {
   "cell_type": "markdown",
   "id": "a7470676-c52a-4ba6-a7bd-85c56cf17347",
   "metadata": {},
   "source": [
    "Below are a few examples of evaluating arithmetic expressions in Python"
   ]
  },
  {
   "cell_type": "code",
   "execution_count": 3,
   "id": "7ed6b3cf-25a0-4e1a-ade2-ca71b612ecbb",
   "metadata": {},
   "outputs": [
    {
     "data": {
      "text/plain": [
       "17"
      ]
     },
     "execution_count": 3,
     "metadata": {},
     "output_type": "execute_result"
    }
   ],
   "source": [
    "# This a simple arithmetic expression to mutiply then add integers\n",
    "\n",
    "(3*4)+5"
   ]
  },
  {
   "cell_type": "code",
   "execution_count": 5,
   "id": "0f89e998-1fa9-4963-9208-bc68472a44c9",
   "metadata": {},
   "outputs": [
    {
     "data": {
      "text/plain": [
       "3.3333333333333335"
      ]
     },
     "execution_count": 5,
     "metadata": {},
     "output_type": "execute_result"
    }
   ],
   "source": [
    "# This will convert 200 minutes to hours by dividing by 60\n",
    "\n",
    "200 / 60\n"
   ]
  },
  {
   "cell_type": "markdown",
   "id": "a2e83262-ea59-4328-b774-8183fe32f7ea",
   "metadata": {},
   "source": [
    "**Objectives:**\n",
    "\n",
    "- List popular languages for Data Science\n",
    "- Explain the use of major Python libraries in data analysis\n",
    "- Demonstrate how to convert units of measurement (e.g., minutes to hours)\n",
    "- Describe the functionality of common development environment tools\n",
    "- Highlight the process of converting and saving Python scripts\n"
   ]
  },
  {
   "cell_type": "markdown",
   "id": "0720abb2-3b14-4cf8-9abe-5155409a9994",
   "metadata": {},
   "source": [
    "## Author\n",
    "Swapnil Barai"
   ]
  },
  {
   "cell_type": "code",
   "execution_count": null,
   "id": "85647517-7775-4c33-88c6-803c33ca8572",
   "metadata": {},
   "outputs": [],
   "source": []
  }
 ],
 "metadata": {
  "kernelspec": {
   "display_name": "Python 3 (ipykernel)",
   "language": "python",
   "name": "python3"
  },
  "language_info": {
   "codemirror_mode": {
    "name": "ipython",
    "version": 3
   },
   "file_extension": ".py",
   "mimetype": "text/x-python",
   "name": "python",
   "nbconvert_exporter": "python",
   "pygments_lexer": "ipython3",
   "version": "3.12.6"
  }
 },
 "nbformat": 4,
 "nbformat_minor": 5
}
